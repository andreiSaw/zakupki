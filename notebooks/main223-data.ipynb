{
 "cells": [
  {
   "cell_type": "markdown",
   "metadata": {},
   "source": [
    "# Preprocessing"
   ]
  },
  {
   "cell_type": "code",
   "execution_count": 2,
   "metadata": {},
   "outputs": [],
   "source": [
    "from zakupkiClient import *\n",
    "import nltk\n",
    "\n",
    "import pandas as pd\n",
    "import numpy as np\n",
    "import os\n",
    "import json\n",
    "import re\n",
    "from time import time\n",
    "os.getcwd()\n",
    "import logging\n",
    "\n",
    "pd.set_option('display.max_colwidth', -1)\n",
    "logging.getLogger().setLevel(logging.INFO)"
   ]
  },
  {
   "cell_type": "code",
   "execution_count": 3,
   "metadata": {},
   "outputs": [],
   "source": [
    "ag_name=\"закупка+автомобилей\"\n",
    "categ=\"29.10.2 \"\n",
    "purchase_db_name=\"db_3300.json\"\n",
    "lots_db_name=\"lots_3300.json\"\n",
    "numFz=\"223\""
   ]
  },
  {
   "cell_type": "code",
   "execution_count": 4,
   "metadata": {},
   "outputs": [
    {
     "name": "stderr",
     "output_type": "stream",
     "text": [
      "INFO:root:allRecords = 3300\n",
      "INFO:root:loading  http://zakupki.gov.ru/223/purchase/public/purchase/info/common-info.html?regNumber=31807061497\n"
     ]
    },
    {
     "data": {
      "text/plain": [
       "True"
      ]
     },
     "execution_count": 4,
     "metadata": {},
     "output_type": "execute_result"
    }
   ],
   "source": [
    "stub=Stub(query=ag_name, numFz=numFz, target=categ, lots_db_name=lots_db_name, purchase_db_name=purchase_db_name)\n",
    "parser=ParserV(stub)\n",
    "parser.allRecords()\n",
    "check_website_up(stub)"
   ]
  },
  {
   "cell_type": "markdown",
   "metadata": {},
   "source": [
    "data1=[]\n",
    "data2=[]\n",
    "with open(\"/Users/macbook/PycharmProjects/zakupki/notebooks/data/закупка+автомобилей/db_100.json\", \"r\") as json_data:\n",
    "    data1 = json.load(json_data)\n",
    "with open(\"/Users/macbook/PycharmProjects/zakupki/notebooks/data/закупка+автомобилей/db_50.json\", \"r\") as json_data:\n",
    "    data2 = json.load(json_data)\n",
    "data=data2+data1\n",
    "len(data)\n",
    "with open(\"/Users/macbook/PycharmProjects/zakupki/notebooks/data/закупка+автомобилей/db_100.json\", \"w\", encoding=\"UTF-8\") as f:\n",
    "        json.dump(data, f)"
   ]
  },
  {
   "cell_type": "markdown",
   "metadata": {},
   "source": [
    "# Get Content"
   ]
  },
  {
   "cell_type": "markdown",
   "metadata": {},
   "source": [
    "Ask search engine to look up the query then go through search pages and save pages"
   ]
  },
  {
   "cell_type": "code",
   "execution_count": null,
   "metadata": {},
   "outputs": [
    {
     "name": "stderr",
     "output_type": "stream",
     "text": [
      "INFO:root:Loading page #1\n",
      "INFO:root:Saving page #1\n",
      "INFO:root:Loading page #2\n",
      "INFO:root:Saving page #2\n",
      "INFO:root:Loading page #3\n",
      "INFO:root:Saving page #3\n",
      "INFO:root:Loading page #4\n",
      "INFO:root:Saving page #4\n",
      "INFO:root:Loading page #5\n",
      "INFO:root:Saving page #5\n",
      "INFO:root:Loading page #6\n",
      "INFO:root:Saving page #6\n",
      "INFO:root:Loading page #7\n",
      "INFO:root:Saving page #7\n",
      "INFO:root:Loading page #8\n",
      "INFO:root:Saving page #8\n",
      "INFO:root:Loading page #9\n",
      "INFO:root:Saving page #9\n",
      "INFO:root:Loading page #10\n",
      "INFO:root:Saving page #10\n",
      "INFO:root:Loading page #11\n",
      "INFO:root:Saving page #11\n",
      "INFO:root:Loading page #12\n",
      "INFO:root:Saving page #12\n",
      "INFO:root:Loading page #13\n",
      "INFO:root:Saving page #13\n",
      "INFO:root:Loading page #14\n",
      "INFO:root:Saving page #14\n",
      "INFO:root:Loading page #15\n",
      "INFO:root:Saving page #15\n",
      "INFO:root:Loading page #16\n",
      "INFO:root:Saving page #16\n",
      "INFO:root:Loading page #17\n",
      "INFO:root:Saving page #17\n",
      "INFO:root:Loading page #18\n",
      "INFO:root:Saving page #18\n",
      "INFO:root:Loading page #19\n",
      "INFO:root:Saving page #19\n",
      "INFO:root:Loading page #20\n",
      "INFO:root:Saving page #20\n",
      "INFO:root:Loading page #21\n",
      "INFO:root:Saving page #21\n",
      "INFO:root:Loading page #22\n",
      "INFO:root:Saving page #22\n",
      "INFO:root:Loading page #23\n",
      "INFO:root:Saving page #23\n",
      "INFO:root:Loading page #24\n",
      "INFO:root:Saving page #24\n",
      "INFO:root:Loading page #25\n",
      "INFO:root:Saving page #25\n",
      "INFO:root:Loading page #26\n",
      "INFO:root:Saving page #26\n",
      "INFO:root:Loading page #27\n",
      "INFO:root:Saving page #27\n",
      "INFO:root:Loading page #28\n",
      "INFO:root:Saving page #28\n",
      "INFO:root:Loading page #29\n",
      "INFO:root:Saving page #29\n",
      "INFO:root:Loading page #30\n",
      "INFO:root:Saving page #30\n",
      "INFO:root:Loading page #31\n",
      "INFO:root:Saving page #31\n",
      "INFO:root:Loading page #32\n",
      "INFO:root:Saving page #32\n",
      "INFO:root:Loading page #33\n",
      "INFO:root:Saving page #33\n",
      "INFO:root:Loading page #34\n",
      "INFO:root:Saving page #34\n",
      "INFO:root:Loading page #35\n",
      "INFO:root:Saving page #35\n",
      "INFO:root:Loading page #36\n",
      "INFO:root:Saving page #36\n",
      "INFO:root:Loading page #37\n",
      "INFO:root:Saving page #37\n",
      "INFO:root:Loading page #38\n",
      "INFO:root:Saving page #38\n",
      "INFO:root:Loading page #39\n",
      "INFO:root:Saving page #39\n",
      "INFO:root:Loading page #40\n",
      "INFO:root:Saving page #40\n",
      "INFO:root:Loading page #41\n",
      "INFO:root:Saving page #41\n",
      "INFO:root:Loading page #42\n",
      "INFO:root:Saving page #42\n",
      "INFO:root:Loading page #43\n",
      "INFO:root:Saving page #43\n",
      "INFO:root:Loading page #44\n",
      "INFO:root:Saving page #44\n",
      "INFO:root:Loading page #45\n",
      "INFO:root:Saving page #45\n",
      "INFO:root:Loading page #46\n",
      "INFO:root:Saving page #46\n",
      "INFO:root:Loading page #47\n",
      "INFO:root:Saving page #47\n",
      "INFO:root:Loading page #48\n",
      "INFO:root:Saving page #48\n",
      "INFO:root:Loading page #49\n",
      "INFO:root:Saving page #49\n",
      "INFO:root:Loading page #50\n",
      "INFO:root:Saving page #50\n",
      "INFO:root:Loading page #51\n",
      "INFO:root:Saving page #51\n",
      "INFO:root:Loading page #52\n",
      "INFO:root:Saving page #52\n",
      "INFO:root:Loading page #53\n",
      "INFO:root:Saving page #53\n",
      "INFO:root:Loading page #54\n",
      "INFO:root:Saving page #54\n",
      "INFO:root:Loading page #55\n",
      "INFO:root:Saving page #55\n",
      "INFO:root:Loading page #56\n",
      "INFO:root:Saving page #56\n",
      "INFO:root:Loading page #57\n",
      "INFO:root:Saving page #57\n",
      "INFO:root:Loading page #58\n",
      "INFO:root:Saving page #58\n",
      "INFO:root:Loading page #59\n",
      "INFO:root:Saving page #59\n",
      "INFO:root:Loading page #60\n",
      "INFO:root:Saving page #60\n",
      "INFO:root:Loading page #61\n",
      "INFO:root:Saving page #61\n",
      "INFO:root:Loading page #62\n",
      "INFO:root:Saving page #62\n",
      "INFO:root:Loading page #63\n",
      "INFO:root:Saving page #63\n",
      "INFO:root:Loading page #64\n",
      "INFO:root:Saving page #64\n",
      "INFO:root:Loading page #65\n",
      "INFO:root:Saving page #65\n",
      "INFO:root:Loading page #66\n",
      "INFO:root:Saving page #66\n",
      "INFO:root:Loading page #67\n",
      "INFO:root:Saving page #67\n",
      "INFO:root:Loading page #68\n",
      "INFO:root:Saving page #68\n",
      "INFO:root:Loading page #69\n",
      "INFO:root:Saving page #69\n",
      "INFO:root:Loading page #70\n",
      "INFO:root:Saving page #70\n",
      "INFO:root:Loading page #71\n",
      "INFO:root:Saving page #71\n",
      "INFO:root:Loading page #72\n"
     ]
    }
   ],
   "source": [
    "parser.search_save(offset=1, p_limit=100)"
   ]
  },
  {
   "cell_type": "markdown",
   "metadata": {},
   "source": [
    "### Go through saved search pages and get purchases data then dump it"
   ]
  },
  {
   "cell_type": "code",
   "execution_count": null,
   "metadata": {
    "scrolled": true
   },
   "outputs": [],
   "source": [
    "parser.parse_save_search_entries(offset=1, p_limit=12)"
   ]
  },
  {
   "cell_type": "code",
   "execution_count": null,
   "metadata": {},
   "outputs": [],
   "source": [
    "purchases_json=load_JSON_data(stub=stub, filename=stub.get_purchase_db_name())\n",
    "#10 puchases per 1 search page\n",
    "len(purchases_json)"
   ]
  },
  {
   "cell_type": "code",
   "execution_count": null,
   "metadata": {},
   "outputs": [],
   "source": [
    "purchases_df=pd.DataFrame.from_records(purchases_json,index=range(0,len(purchases_json)))\n",
    "\n",
    "purchases_df"
   ]
  },
  {
   "cell_type": "markdown",
   "metadata": {},
   "source": [
    "When all purchases' data is stored go through purchases and create lots database,  dump it"
   ]
  },
  {
   "cell_type": "code",
   "execution_count": null,
   "metadata": {},
   "outputs": [],
   "source": [
    "parser.create_save_lots()"
   ]
  },
  {
   "cell_type": "code",
   "execution_count": null,
   "metadata": {},
   "outputs": [],
   "source": []
  }
 ],
 "metadata": {
  "kernelspec": {
   "display_name": "Python 3",
   "language": "python",
   "name": "python3"
  },
  "language_info": {
   "codemirror_mode": {
    "name": "ipython",
    "version": 3
   },
   "file_extension": ".py",
   "mimetype": "text/x-python",
   "name": "python",
   "nbconvert_exporter": "python",
   "pygments_lexer": "ipython3",
   "version": "3.7.0"
  }
 },
 "nbformat": 4,
 "nbformat_minor": 2
}
