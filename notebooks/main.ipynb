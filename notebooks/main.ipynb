{
 "cells": [
  {
   "cell_type": "code",
   "execution_count": 11,
   "metadata": {},
   "outputs": [],
   "source": [
    "from zakupkiClient import *\n"
   ]
  },
  {
   "cell_type": "code",
   "execution_count": 12,
   "metadata": {},
   "outputs": [],
   "source": [
    "ag_name=\"закупки+автомобилей\"\n",
    "ses=get_session()"
   ]
  },
  {
   "cell_type": "code",
   "execution_count": null,
   "metadata": {},
   "outputs": [],
   "source": []
  },
  {
   "cell_type": "code",
   "execution_count": 13,
   "metadata": {},
   "outputs": [
    {
     "name": "stdout",
     "output_type": "stream",
     "text": [
      "Loading page #1\n",
      "Saving page #1\n"
     ]
    }
   ],
   "source": [
    "search_save(p_limit=1, query=ag_name, s=ses)"
   ]
  },
  {
   "cell_type": "code",
   "execution_count": 14,
   "metadata": {},
   "outputs": [
    {
     "name": "stdout",
     "output_type": "stream",
     "text": [
      "Parsed 31807188556 page\n",
      "Parsed 31806976073 page\n",
      "Parsed 31806918675 page\n",
      "Parsed 31807031622 page\n",
      "Parsed 31806826350 page\n",
      "Parsed 31806827225 page\n",
      "Parsed 31806826090 page\n",
      "Parsed 31806540697 page\n",
      "Parsed 31806567582 page\n",
      "Parsed 31806567705 page\n"
     ]
    }
   ],
   "source": [
    "purchases=parse_save_search_entries(query=ag_name, session=ses)\n"
   ]
  },
  {
   "cell_type": "code",
   "execution_count": 15,
   "metadata": {},
   "outputs": [],
   "source": [
    "lots=create_save_lots(ag_name)"
   ]
  },
  {
   "cell_type": "code",
   "execution_count": 16,
   "metadata": {},
   "outputs": [],
   "source": [
    "import pandas as pd\n",
    "import os\n",
    "import json"
   ]
  },
  {
   "cell_type": "markdown",
   "metadata": {},
   "source": [
    "def load_data(path):\n",
    "    if not os.path.isfile(path):\n",
    "        return []\n",
    "    with open(path, \"r\") as json_data:\n",
    "        statelist = json.load(json_data)\n",
    "        if isinstance(statelist, list):\n",
    "            return statelist\n",
    "        return []"
   ]
  },
  {
   "cell_type": "markdown",
   "metadata": {},
   "source": [
    "path=\"/Users/macbook/PycharmProjects/zakupki/data/%s/lots.json\"\n",
    "d=load_data(path%ag_name)\n"
   ]
  },
  {
   "cell_type": "code",
   "execution_count": 17,
   "metadata": {},
   "outputs": [
    {
     "data": {
      "text/html": [
       "<div>\n",
       "<style scoped>\n",
       "    .dataframe tbody tr th:only-of-type {\n",
       "        vertical-align: middle;\n",
       "    }\n",
       "\n",
       "    .dataframe tbody tr th {\n",
       "        vertical-align: top;\n",
       "    }\n",
       "\n",
       "    .dataframe thead th {\n",
       "        text-align: right;\n",
       "    }\n",
       "</style>\n",
       "<table border=\"1\" class=\"dataframe\">\n",
       "  <thead>\n",
       "    <tr style=\"text-align: right;\">\n",
       "      <th></th>\n",
       "      <th>category</th>\n",
       "      <th>name</th>\n",
       "      <th>p_id</th>\n",
       "      <th>price</th>\n",
       "    </tr>\n",
       "  </thead>\n",
       "  <tbody>\n",
       "    <tr>\n",
       "      <th>9</th>\n",
       "      <td>45.19 Торговля прочими автотранспортными средствами</td>\n",
       "      <td>ОЗП №21404/В - Определение лучших условий поставки специализированных автомобилей с грузоподъемным механизмом для нужд Публичное акционерное общество \"Московская объединенная энергетическая компания\" (участниками закупки могут быть только субъекты малого и среднего предпринимательства)</td>\n",
       "      <td>31806567582</td>\n",
       "      <td>6711372</td>\n",
       "    </tr>\n",
       "    <tr>\n",
       "      <th>2</th>\n",
       "      <td>45.20 Техническое обслуживание и ремонт автотранспортных средств</td>\n",
       "      <td>ОЗП №1580/18 - Удаление загрязнений с кузова автомобилей для нужд ТЭЦ-7 филиала «Невский» ПАО «ТГК-1» (участниками закупки могут быть только субъекты малого и среднего предпринимательства)</td>\n",
       "      <td>31806976073</td>\n",
       "      <td>275000</td>\n",
       "    </tr>\n",
       "    <tr>\n",
       "      <th>6</th>\n",
       "      <td>45.20 Техническое обслуживание и ремонт автотранспортных средств</td>\n",
       "      <td>ОЗП №19P10130 - Определение лучших условий выполнения работ по техническому обслуживанию и ремонту автомобилей, уборочной, прицепной, строительной и специальной техники (включая оборудование установленное на них) для нужд Публичное акционерное общество \"Московская объединенная энергетическая компания\" (участниками закупки могут быть только субъекты малого и среднего предпринимательства)</td>\n",
       "      <td>31806827225</td>\n",
       "      <td>65656343</td>\n",
       "    </tr>\n",
       "    <tr>\n",
       "      <th>10</th>\n",
       "      <td>45.19 Торговля прочими автотранспортными средствами</td>\n",
       "      <td>ОЗП №21527/В - Определение лучших условий поставки специализированных автомобилей с грузоподъемным механизмом для нужд Публичное акционерное общество \"Московская объединенная энергетическая компания\" (участниками закупки могут быть только субъекты малого и среднего предпринимательства)</td>\n",
       "      <td>31806567705</td>\n",
       "      <td>38808563</td>\n",
       "    </tr>\n",
       "  </tbody>\n",
       "</table>\n",
       "</div>"
      ],
      "text/plain": [
       "                                                                                                                category  \\\n",
       "9                                                       45.19 Торговля прочими автотранспортными средствами                \n",
       "2                                                       45.20 Техническое обслуживание и ремонт автотранспортных средств   \n",
       "6                                                       45.20 Техническое обслуживание и ремонт автотранспортных средств   \n",
       "10                                                      45.19 Торговля прочими автотранспортными средствами                \n",
       "\n",
       "                                                                                                                                                                                                                                                                                                                                                                                                                                         name  \\\n",
       "9                       ОЗП №21404/В - Определение лучших условий поставки специализированных автомобилей с грузоподъемным механизмом для нужд Публичное акционерное общество \"Московская объединенная энергетическая компания\" (участниками закупки могут быть только субъекты малого и среднего предпринимательства)                                                                                                                          \n",
       "2                       ОЗП №1580/18 - Удаление загрязнений с кузова автомобилей для нужд ТЭЦ-7 филиала «Невский» ПАО «ТГК-1» (участниками закупки могут быть только субъекты малого и среднего предпринимательства)                                                                                                                                                                                                                            \n",
       "6                       ОЗП №19P10130 - Определение лучших условий выполнения работ по техническому обслуживанию и ремонту автомобилей, уборочной, прицепной, строительной и специальной техники (включая оборудование установленное на них) для нужд Публичное акционерное общество \"Московская объединенная энергетическая компания\" (участниками закупки могут быть только субъекты малого и среднего предпринимательства)                   \n",
       "10                      ОЗП №21527/В - Определение лучших условий поставки специализированных автомобилей с грузоподъемным механизмом для нужд Публичное акционерное общество \"Московская объединенная энергетическая компания\" (участниками закупки могут быть только субъекты малого и среднего предпринимательства)                                                                                                                          \n",
       "\n",
       "           p_id     price  \n",
       "9   31806567582  6711372   \n",
       "2   31806976073  275000    \n",
       "6   31806827225  65656343  \n",
       "10  31806567705  38808563  "
      ]
     },
     "execution_count": 17,
     "metadata": {},
     "output_type": "execute_result"
    }
   ],
   "source": [
    "df=pd.DataFrame.from_records(lots,index=range(1,len(lots)+1))\n",
    "\n",
    "pd.set_option('display.max_colwidth', -1)\n",
    "\n",
    "df.sample(4)"
   ]
  },
  {
   "cell_type": "code",
   "execution_count": null,
   "metadata": {},
   "outputs": [],
   "source": []
  }
 ],
 "metadata": {
  "kernelspec": {
   "display_name": "Python 3",
   "language": "python",
   "name": "python3"
  },
  "language_info": {
   "codemirror_mode": {
    "name": "ipython",
    "version": 3
   },
   "file_extension": ".py",
   "mimetype": "text/x-python",
   "name": "python",
   "nbconvert_exporter": "python",
   "pygments_lexer": "ipython3",
   "version": "3.7.0"
  }
 },
 "nbformat": 4,
 "nbformat_minor": 2
}
