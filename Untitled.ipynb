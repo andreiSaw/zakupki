{
 "cells": [
  {
   "cell_type": "code",
   "execution_count": 5,
   "metadata": {},
   "outputs": [],
   "source": [
    "from sklearn.feature_extraction.text import TfidfVectorizer\n",
    "from sklearn.cluster import KMeans\n",
    "from sklearn.metrics import adjusted_rand_score\n"
   ]
  },
  {
   "cell_type": "code",
   "execution_count": 6,
   "metadata": {},
   "outputs": [],
   "source": [
    "documents = [\"Human machine interface for lab abc computer applications\",\n",
    "             \"A survey of user opinion of computer system response time\",\n",
    "             \"The EPS user interface management system\",\n",
    "             \"System and human system engineering testing of EPS\",\n",
    "             \"Relation of user perceived response time to error measurement\",\n",
    "             \"The generation of random binary unordered trees\",\n",
    "             \"The intersection graph of paths in trees\",\n",
    "             \"Graph minors IV Widths of trees and well quasi ordering\",\n",
    "             \"Graph minors A survey\"]"
   ]
  },
  {
   "cell_type": "markdown",
   "metadata": {},
   "source": [
    "vectorize the text i.e. convert the strings to numeric features\n",
    "\n"
   ]
  },
  {
   "cell_type": "code",
   "execution_count": 7,
   "metadata": {},
   "outputs": [],
   "source": [
    "vectorizer = TfidfVectorizer()\n",
    "X = vectorizer.fit_transform(documents)"
   ]
  },
  {
   "cell_type": "markdown",
   "metadata": {},
   "source": [
    "cluster documents\n",
    "\n"
   ]
  },
  {
   "cell_type": "code",
   "execution_count": 8,
   "metadata": {},
   "outputs": [
    {
     "data": {
      "text/plain": [
       "KMeans(algorithm='auto', copy_x=True, init='k-means++', max_iter=100,\n",
       "    n_clusters=2, n_init=1, n_jobs=None, precompute_distances='auto',\n",
       "    random_state=None, tol=0.0001, verbose=0)"
      ]
     },
     "execution_count": 8,
     "metadata": {},
     "output_type": "execute_result"
    }
   ],
   "source": [
    "true_k = 2\n",
    "model = KMeans(n_clusters=true_k, init='k-means++', max_iter=100, n_init=1)\n",
    "model.fit(X)"
   ]
  },
  {
   "cell_type": "markdown",
   "metadata": {},
   "source": [
    "print top terms per cluster clusters"
   ]
  },
  {
   "cell_type": "code",
   "execution_count": 9,
   "metadata": {},
   "outputs": [
    {
     "name": "stdout",
     "output_type": "stream",
     "text": [
      "Top terms per cluster:\n",
      "Cluster 0:\n",
      " system\n",
      " survey\n",
      " user\n",
      " of\n",
      " eps\n",
      " interface\n",
      " computer\n",
      " time\n",
      " response\n",
      " human\n",
      "\n",
      "Cluster 1:\n",
      " trees\n",
      " the\n",
      " of\n",
      " graph\n",
      " intersection\n",
      " in\n",
      " paths\n",
      " generation\n",
      " binary\n",
      " unordered\n",
      "\n"
     ]
    }
   ],
   "source": [
    "print(\"Top terms per cluster:\")\n",
    "order_centroids = model.cluster_centers_.argsort()[:, ::-1]\n",
    "terms = vectorizer.get_feature_names()\n",
    "for i in range(true_k):\n",
    "    print (\"Cluster %d:\" % i)\n",
    "    for ind in order_centroids[i, :10]:\n",
    "        print (' %s' % terms[ind])\n",
    "    print()"
   ]
  },
  {
   "cell_type": "code",
   "execution_count": 11,
   "metadata": {},
   "outputs": [],
   "source": [
    "def load_data(path = \"/Users/macbook/PycharmProjects/zakupki/data/высшая+школа+экономики/lots.json\"):\n",
    "    if not os.path.isfile(path):\n",
    "        return []\n",
    "    with open(path, \"r\") as json_data:\n",
    "        statelist = json.load(json_data)\n",
    "        if isinstance(statelist, list):\n",
    "            return statelist\n",
    "        return []"
   ]
  },
  {
   "cell_type": "code",
   "execution_count": 12,
   "metadata": {},
   "outputs": [
    {
     "data": {
      "text/html": [
       "<div>\n",
       "<style scoped>\n",
       "    .dataframe tbody tr th:only-of-type {\n",
       "        vertical-align: middle;\n",
       "    }\n",
       "\n",
       "    .dataframe tbody tr th {\n",
       "        vertical-align: top;\n",
       "    }\n",
       "\n",
       "    .dataframe thead th {\n",
       "        text-align: right;\n",
       "    }\n",
       "</style>\n",
       "<table border=\"1\" class=\"dataframe\">\n",
       "  <thead>\n",
       "    <tr style=\"text-align: right;\">\n",
       "      <th></th>\n",
       "      <th>category</th>\n",
       "      <th>name</th>\n",
       "      <th>p_id</th>\n",
       "      <th>price</th>\n",
       "    </tr>\n",
       "  </thead>\n",
       "  <tbody>\n",
       "    <tr>\n",
       "      <th>1</th>\n",
       "      <td>96.01 Стирка и химическая чистка текстильных и меховых изделий</td>\n",
       "      <td>Оказание услуг по замене и чистке грязепоглощающих ковровых покрытий.</td>\n",
       "      <td>31807248973</td>\n",
       "      <td>3515032</td>\n",
       "    </tr>\n",
       "    <tr>\n",
       "      <th>3</th>\n",
       "      <td>61.10.3 Деятельность по предоставлению услуг по передаче данных и услуг доступа к информационно-коммуникационной сети Интернет</td>\n",
       "      <td>(ЭК338-11-18/Интернет (Михайлова)) Оказание услуг по подключению и обеспечению доступа Абонента к сети Интернет в здании НИУ ВШЭ, расположенном по адресу: г. Москва, ул. Михайлова, д.34.</td>\n",
       "      <td>31807235799</td>\n",
       "      <td>712320</td>\n",
       "    </tr>\n",
       "    <tr>\n",
       "      <th>4</th>\n",
       "      <td>61.10.3 Деятельность по предоставлению услуг по передаче данных и услуг доступа к информационно-коммуникационной сети Интернет</td>\n",
       "      <td>(ЭК337-11-18/Интернет (Кибальчича)) Оказание услуг по подключению и обеспечению доступа Абонента к сети Интернет в здании НИУ ВШЭ, расположенном по адресу: г. Москва, ул. Кибальчича, д.7.</td>\n",
       "      <td>31807235802</td>\n",
       "      <td>648600</td>\n",
       "    </tr>\n",
       "    <tr>\n",
       "      <th>8</th>\n",
       "      <td>61.10.3 Деятельность по предоставлению услуг по передаче данных и услуг доступа к информационно-коммуникационной сети Интернет</td>\n",
       "      <td>(ЭК334-11-18/Интернет (Электродная)) Оказание услуг по подключению и обеспечению доступа Абонента к сети Интернет в здании НИУ ВШЭ, расположенном по адресу: г. Москва, ул. Электродная, д.1.</td>\n",
       "      <td>31807235814</td>\n",
       "      <td>747600</td>\n",
       "    </tr>\n",
       "  </tbody>\n",
       "</table>\n",
       "</div>"
      ],
      "text/plain": [
       "                                                                                                                                                                             category  \\\n",
       "1                                                      96.01 Стирка и химическая чистка текстильных и меховых изделий                                                                   \n",
       "3                                                      61.10.3 Деятельность по предоставлению услуг по передаче данных и услуг доступа к информационно-коммуникационной сети Интернет   \n",
       "4                                                      61.10.3 Деятельность по предоставлению услуг по передаче данных и услуг доступа к информационно-коммуникационной сети Интернет   \n",
       "8                                                      61.10.3 Деятельность по предоставлению услуг по передаче данных и услуг доступа к информационно-коммуникационной сети Интернет   \n",
       "\n",
       "                                                                                                                                                                                                                                name  \\\n",
       "1                      Оказание услуг по замене и чистке грязепоглощающих ковровых покрытий.                                                                                                                                           \n",
       "3                      (ЭК338-11-18/Интернет (Михайлова)) Оказание услуг по подключению и обеспечению доступа Абонента к сети Интернет в здании НИУ ВШЭ, расположенном по адресу: г. Москва, ул. Михайлова, д.34.                      \n",
       "4                      (ЭК337-11-18/Интернет (Кибальчича)) Оказание услуг по подключению и обеспечению доступа Абонента к сети Интернет в здании НИУ ВШЭ, расположенном по адресу: г. Москва, ул. Кибальчича, д.7.                     \n",
       "8                      (ЭК334-11-18/Интернет (Электродная)) Оказание услуг по подключению и обеспечению доступа Абонента к сети Интернет в здании НИУ ВШЭ, расположенном по адресу: г. Москва, ул. Электродная, д.1.                   \n",
       "\n",
       "          p_id    price  \n",
       "1  31807248973  3515032  \n",
       "3  31807235799  712320   \n",
       "4  31807235802  648600   \n",
       "8  31807235814  747600   "
      ]
     },
     "execution_count": 12,
     "metadata": {},
     "output_type": "execute_result"
    }
   ],
   "source": [
    "import pandas as pd\n",
    "import os\n",
    "import json\n",
    "d=load_data()\n",
    "df=pd.DataFrame.from_records(d,index=range(1,len(d)+1))\n",
    "# df.paramsvector=df.paramsvector.apply(lambda x: x[0])\n",
    "pd.set_option('display.max_colwidth', -1)\n",
    "\n",
    "\n",
    "df.sample(4)"
   ]
  },
  {
   "cell_type": "code",
   "execution_count": 14,
   "metadata": {},
   "outputs": [
    {
     "data": {
      "text/html": [
       "<div>\n",
       "<style scoped>\n",
       "    .dataframe tbody tr th:only-of-type {\n",
       "        vertical-align: middle;\n",
       "    }\n",
       "\n",
       "    .dataframe tbody tr th {\n",
       "        vertical-align: top;\n",
       "    }\n",
       "\n",
       "    .dataframe thead th {\n",
       "        text-align: right;\n",
       "    }\n",
       "</style>\n",
       "<table border=\"1\" class=\"dataframe\">\n",
       "  <thead>\n",
       "    <tr style=\"text-align: right;\">\n",
       "      <th></th>\n",
       "      <th>category</th>\n",
       "      <th>name</th>\n",
       "      <th>p_id</th>\n",
       "      <th>price</th>\n",
       "    </tr>\n",
       "  </thead>\n",
       "  <tbody>\n",
       "    <tr>\n",
       "      <th>1</th>\n",
       "      <td>96.01 Стирка и химическая чистка текстильных и меховых изделий</td>\n",
       "      <td>Оказание услуг по замене и чистке грязепоглощающих ковровых покрытий.</td>\n",
       "      <td>31807248973</td>\n",
       "      <td>3515032</td>\n",
       "    </tr>\n",
       "  </tbody>\n",
       "</table>\n",
       "</div>"
      ],
      "text/plain": [
       "                                                                                                             category  \\\n",
       "1                                                      96.01 Стирка и химическая чистка текстильных и меховых изделий   \n",
       "\n",
       "                                                                                                        name  \\\n",
       "1                      Оказание услуг по замене и чистке грязепоглощающих ковровых покрытий.                   \n",
       "\n",
       "          p_id    price  \n",
       "1  31807248973  3515032  "
      ]
     },
     "execution_count": 14,
     "metadata": {},
     "output_type": "execute_result"
    }
   ],
   "source": [
    "df.loc[df['p_id'] == \"31807248973\"]"
   ]
  },
  {
   "cell_type": "code",
   "execution_count": null,
   "metadata": {},
   "outputs": [],
   "source": []
  },
  {
   "cell_type": "code",
   "execution_count": null,
   "metadata": {},
   "outputs": [],
   "source": []
  }
 ],
 "metadata": {
  "kernelspec": {
   "display_name": "Python 3",
   "language": "python",
   "name": "python3"
  },
  "language_info": {
   "codemirror_mode": {
    "name": "ipython",
    "version": 3
   },
   "file_extension": ".py",
   "mimetype": "text/x-python",
   "name": "python",
   "nbconvert_exporter": "python",
   "pygments_lexer": "ipython3",
   "version": "3.7.0"
  }
 },
 "nbformat": 4,
 "nbformat_minor": 2
}
