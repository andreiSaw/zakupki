{
 "cells": [
  {
   "cell_type": "code",
   "execution_count": 14,
   "metadata": {},
   "outputs": [],
   "source": [
    "from sklearn.feature_extraction.text import TfidfVectorizer\n",
    "from sklearn.cluster import KMeans\n",
    "from sklearn.metrics import adjusted_rand_score\n"
   ]
  },
  {
   "cell_type": "code",
   "execution_count": null,
   "metadata": {},
   "outputs": [],
   "source": [
    "documents = [\"Human machine interface for lab abc computer applications\",\n",
    "             \"A survey of user opinion of computer system response time\",\n",
    "             \"The EPS user interface management system\",\n",
    "             \"System and human system engineering testing of EPS\",\n",
    "             \"Relation of user perceived response time to error measurement\",\n",
    "             \"The generation of random binary unordered trees\",\n",
    "             \"The intersection graph of paths in trees\",\n",
    "             \"Graph minors IV Widths of trees and well quasi ordering\",\n",
    "             \"Graph minors A survey\"]"
   ]
  },
  {
   "cell_type": "markdown",
   "metadata": {},
   "source": [
    "vectorize the text i.e. convert the strings to numeric features\n",
    "\n"
   ]
  },
  {
   "cell_type": "code",
   "execution_count": 11,
   "metadata": {},
   "outputs": [],
   "source": [
    "vectorizer = TfidfVectorizer(stop_words='english')\n",
    "X = vectorizer.fit_transform(documents)"
   ]
  },
  {
   "cell_type": "markdown",
   "metadata": {},
   "source": [
    "cluster documents\n",
    "\n"
   ]
  },
  {
   "cell_type": "code",
   "execution_count": 12,
   "metadata": {},
   "outputs": [
    {
     "data": {
      "text/plain": [
       "KMeans(algorithm='auto', copy_x=True, init='k-means++', max_iter=100,\n",
       "    n_clusters=2, n_init=1, n_jobs=None, precompute_distances='auto',\n",
       "    random_state=None, tol=0.0001, verbose=0)"
      ]
     },
     "execution_count": 12,
     "metadata": {},
     "output_type": "execute_result"
    }
   ],
   "source": [
    "true_k = 2\n",
    "model = KMeans(n_clusters=true_k, init='k-means++', max_iter=100, n_init=1)\n",
    "model.fit(X)"
   ]
  },
  {
   "cell_type": "markdown",
   "metadata": {},
   "source": [
    "print top terms per cluster clusters"
   ]
  },
  {
   "cell_type": "code",
   "execution_count": 13,
   "metadata": {},
   "outputs": [
    {
     "name": "stdout",
     "output_type": "stream",
     "text": [
      "Top terms per cluster:\n",
      "Cluster 0:\n",
      " graph\n",
      " trees\n",
      " minors\n",
      " human\n",
      " survey\n",
      " intersection\n",
      " paths\n",
      " testing\n",
      " engineering\n",
      " generation\n",
      "\n",
      "Cluster 1:\n",
      " user\n",
      " response\n",
      " time\n",
      " management\n",
      " eps\n",
      " interface\n",
      " opinion\n",
      " relation\n",
      " perceived\n",
      " error\n",
      "\n"
     ]
    }
   ],
   "source": [
    "print(\"Top terms per cluster:\")\n",
    "order_centroids = model.cluster_centers_.argsort()[:, ::-1]\n",
    "terms = vectorizer.get_feature_names()\n",
    "for i in range(true_k):\n",
    "    print (\"Cluster %d:\" % i)\n",
    "    for ind in order_centroids[i, :10]:\n",
    "        print (' %s' % terms[ind])\n",
    "    print()"
   ]
  },
  {
   "cell_type": "code",
   "execution_count": 1,
   "metadata": {},
   "outputs": [],
   "source": [
    "def load_data(path = \"/Users/macbook/PycharmProjects/zakupki/data/поставки+автомобилей/tp.json\"):\n",
    "    if not os.path.isfile(path):\n",
    "        return []\n",
    "    with open(path, \"r\") as json_data:\n",
    "        statelist = json.load(json_data)\n",
    "        if isinstance(statelist, list):\n",
    "            return statelist\n",
    "        return []"
   ]
  },
  {
   "cell_type": "code",
   "execution_count": 3,
   "metadata": {},
   "outputs": [
    {
     "data": {
      "text/html": [
       "<div>\n",
       "<style scoped>\n",
       "    .dataframe tbody tr th:only-of-type {\n",
       "        vertical-align: middle;\n",
       "    }\n",
       "\n",
       "    .dataframe tbody tr th {\n",
       "        vertical-align: top;\n",
       "    }\n",
       "\n",
       "    .dataframe thead th {\n",
       "        text-align: right;\n",
       "    }\n",
       "</style>\n",
       "<table border=\"1\" class=\"dataframe\">\n",
       "  <thead>\n",
       "    <tr style=\"text-align: right;\">\n",
       "      <th></th>\n",
       "      <th>Адрес места нахождения</th>\n",
       "      <th>Адрес электронной площадки в сети Интернет</th>\n",
       "      <th>Дата размещения извещения</th>\n",
       "      <th>Дата размещения текущей редакции извещения (по местному времени заказчика)</th>\n",
       "      <th>Закупка осуществляется вследствие аварии, иных чрезвычайных ситуаций природного или техногенного характера, непреодолимой силы, при необходимости срочного медицинского вмешательства, а также для предотвращения угрозы возникновения указанных ситуаций</th>\n",
       "      <th>ИНН \\ КПП</th>\n",
       "      <th>Контактное лицо</th>\n",
       "      <th>Наименование закупки</th>\n",
       "      <th>Наименование организации</th>\n",
       "      <th>Наименование электронной площадки в сети Интернет</th>\n",
       "      <th>Номер извещения</th>\n",
       "      <th>ОГРН</th>\n",
       "      <th>Организация</th>\n",
       "      <th>Почтовый адрес</th>\n",
       "      <th>Редакция</th>\n",
       "      <th>Способ размещения закупки</th>\n",
       "      <th>Телефон</th>\n",
       "      <th>Электронная почта</th>\n",
       "    </tr>\n",
       "  </thead>\n",
       "  <tbody>\n",
       "    <tr>\n",
       "      <th>1</th>\n",
       "      <td>625003, ОБЛАСТЬ ТЮМЕНСКАЯ, ГОРОД ТЮМЕНЬ, УЛИЦА...</td>\n",
       "      <td>223.rts-tender.ru</td>\n",
       "      <td>24.10.2018 (МСК+2)</td>\n",
       "      <td>24.10.2018 (МСК+2)</td>\n",
       "      <td>Не установлено</td>\n",
       "      <td>7202203221 \\ 720301001</td>\n",
       "      <td>Созонова Наталья Александровна</td>\n",
       "      <td>Поставка непродовольственных товаров (специал...</td>\n",
       "      <td>УПРАВЛЕНИЕ ГОСУДАРСТВЕННЫХ ЗАКУПОК ТЮМЕНСКОЙ О...</td>\n",
       "      <td>РТС-тендер</td>\n",
       "      <td>31807061497</td>\n",
       "      <td>1107232000413</td>\n",
       "      <td>УПРАВЛЕНИЕ ГОСУДАРСТВЕННЫХ ЗАКУПОК ТЮМЕНСКОЙ О...</td>\n",
       "      <td>625003, Россия, г.Тюмень, ул. Республики, 24</td>\n",
       "      <td>1</td>\n",
       "      <td>Открытый аукцион в электронной форме (до 01.0...</td>\n",
       "      <td>+7 (345) 2556507</td>\n",
       "      <td>SozonovaNA@72to.ru</td>\n",
       "    </tr>\n",
       "  </tbody>\n",
       "</table>\n",
       "</div>"
      ],
      "text/plain": [
       "                              Адрес места нахождения  \\\n",
       "1  625003, ОБЛАСТЬ ТЮМЕНСКАЯ, ГОРОД ТЮМЕНЬ, УЛИЦА...   \n",
       "\n",
       "  Адрес электронной площадки в сети Интернет Дата размещения извещения  \\\n",
       "1                          223.rts-tender.ru        24.10.2018 (МСК+2)   \n",
       "\n",
       "  Дата размещения текущей редакции извещения (по местному времени заказчика)  \\\n",
       "1                                 24.10.2018 (МСК+2)                           \n",
       "\n",
       "  Закупка осуществляется вследствие аварии, иных чрезвычайных ситуаций природного или техногенного характера, непреодолимой силы, при необходимости срочного медицинского вмешательства, а также для предотвращения угрозы возникновения указанных ситуаций  \\\n",
       "1                                    Не установлено                                                                                                                                                                                                           \n",
       "\n",
       "                ИНН \\ КПП                 Контактное лицо  \\\n",
       "1  7202203221 \\ 720301001  Созонова Наталья Александровна   \n",
       "\n",
       "                                Наименование закупки  \\\n",
       "1   Поставка непродовольственных товаров (специал...   \n",
       "\n",
       "                            Наименование организации  \\\n",
       "1  УПРАВЛЕНИЕ ГОСУДАРСТВЕННЫХ ЗАКУПОК ТЮМЕНСКОЙ О...   \n",
       "\n",
       "  Наименование электронной площадки в сети Интернет Номер извещения  \\\n",
       "1                                        РТС-тендер     31807061497   \n",
       "\n",
       "            ОГРН                                        Организация  \\\n",
       "1  1107232000413  УПРАВЛЕНИЕ ГОСУДАРСТВЕННЫХ ЗАКУПОК ТЮМЕНСКОЙ О...   \n",
       "\n",
       "                                 Почтовый адрес Редакция  \\\n",
       "1  625003, Россия, г.Тюмень, ул. Республики, 24        1   \n",
       "\n",
       "                           Способ размещения закупки           Телефон  \\\n",
       "1   Открытый аукцион в электронной форме (до 01.0...  +7 (345) 2556507   \n",
       "\n",
       "    Электронная почта  \n",
       "1  SozonovaNA@72to.ru  "
      ]
     },
     "execution_count": 3,
     "metadata": {},
     "output_type": "execute_result"
    }
   ],
   "source": [
    "import pandas as pd\n",
    "import os\n",
    "import json\n",
    "d=load_data()\n",
    "df=pd.DataFrame.from_records(d,index=range(1,len(d)+1))\n",
    "# df.paramsvector=df.paramsvector.apply(lambda x: x[0])\n",
    "df.sample()"
   ]
  },
  {
   "cell_type": "code",
   "execution_count": null,
   "metadata": {},
   "outputs": [],
   "source": []
  },
  {
   "cell_type": "code",
   "execution_count": null,
   "metadata": {},
   "outputs": [],
   "source": []
  }
 ],
 "metadata": {
  "kernelspec": {
   "display_name": "Python 3",
   "language": "python",
   "name": "python3"
  },
  "language_info": {
   "codemirror_mode": {
    "name": "ipython",
    "version": 3
   },
   "file_extension": ".py",
   "mimetype": "text/x-python",
   "name": "python",
   "nbconvert_exporter": "python",
   "pygments_lexer": "ipython3",
   "version": "3.7.0"
  }
 },
 "nbformat": 4,
 "nbformat_minor": 2
}
