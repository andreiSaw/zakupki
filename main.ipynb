{
 "cells": [
  {
   "cell_type": "code",
   "execution_count": 21,
   "metadata": {},
   "outputs": [],
   "source": [
    "from zakupkiClient.poisk import search_save,parse_save_search_entries\n",
    "from zakupkiClient.util import get_session\n"
   ]
  },
  {
   "cell_type": "code",
   "execution_count": 22,
   "metadata": {},
   "outputs": [],
   "source": [
    "ag_name=\"закупки+автомобилей\"\n",
    "ses=get_session()"
   ]
  },
  {
   "cell_type": "code",
   "execution_count": null,
   "metadata": {},
   "outputs": [],
   "source": []
  },
  {
   "cell_type": "code",
   "execution_count": 23,
   "metadata": {},
   "outputs": [
    {
     "name": "stdout",
     "output_type": "stream",
     "text": [
      "Loading page #1\n",
      "Saving page #1\n",
      "Loading page #2\n",
      "Saving page #2\n",
      "Loading page #3\n",
      "Saving page #3\n",
      "Loading page #4\n",
      "Saving page #4\n",
      "Loading page #5\n",
      "Saving page #5\n",
      "Loading page #6\n",
      "Saving page #6\n",
      "Loading page #7\n",
      "Saving page #7\n",
      "Loading page #8\n",
      "Saving page #8\n",
      "Loading page #9\n",
      "Saving page #9\n",
      "Loading page #10\n",
      "Saving page #10\n"
     ]
    }
   ],
   "source": [
    "search_save(p_limit=10, query=ag_name, s=ses)"
   ]
  },
  {
   "cell_type": "code",
   "execution_count": null,
   "metadata": {},
   "outputs": [
    {
     "name": "stdout",
     "output_type": "stream",
     "text": [
      "Parsed 31807188556 page\n",
      "Parsed 31806976073 page\n"
     ]
    }
   ],
   "source": [
    "lots=parse_save_search_entries(query=ag_name, session=ses)\n"
   ]
  },
  {
   "cell_type": "code",
   "execution_count": null,
   "metadata": {},
   "outputs": [],
   "source": []
  }
 ],
 "metadata": {
  "kernelspec": {
   "display_name": "Python 3",
   "language": "python",
   "name": "python3"
  },
  "language_info": {
   "codemirror_mode": {
    "name": "ipython",
    "version": 3
   },
   "file_extension": ".py",
   "mimetype": "text/x-python",
   "name": "python",
   "nbconvert_exporter": "python",
   "pygments_lexer": "ipython3",
   "version": "3.7.0"
  }
 },
 "nbformat": 4,
 "nbformat_minor": 2
}
